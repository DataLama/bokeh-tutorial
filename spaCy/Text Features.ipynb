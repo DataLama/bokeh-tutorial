{
 "cells": [
  {
   "cell_type": "markdown",
   "metadata": {},
   "source": [
    "# Text Features"
   ]
  },
  {
   "cell_type": "markdown",
   "metadata": {},
   "source": [
    "## Document Level"
   ]
  },
  {
   "cell_type": "markdown",
   "metadata": {},
   "source": [
    "- ASAP\n",
    "    - Sentiments\n",
    "    - Document Ranking\n",
    "- Research\n",
    "    - Topic Classification"
   ]
  },
  {
   "cell_type": "markdown",
   "metadata": {},
   "source": [
    "## Token Level"
   ]
  },
  {
   "cell_type": "markdown",
   "metadata": {},
   "source": [
    "- ASAP\n",
    "    - custom_tags\n",
    "        - is_keyword : 시각화할때, subset하기 위함. 계산은 전체 데이터 but 결과는 keyword만.\n",
    "\n",
    "    - Co-occurence Matrix(keywords) with metrics\n",
    "        - simple-count\n",
    "        - tf-idf\n",
    "        - bm25\n",
    "        - embeddings\n",
    "        - ...\n",
    "\n",
    "    \n",
    "    \n",
    "- Research\n",
    "    - Topic Sequence Labeling\n",
    "    - Sentiment Sequence Labeling\n",
    "    - Attribute Sequence Labeling"
   ]
  },
  {
   "cell_type": "markdown",
   "metadata": {},
   "source": [
    "## Lexeme\n",
    "- 글자 자체..."
   ]
  },
  {
   "cell_type": "markdown",
   "metadata": {},
   "source": [
    "----"
   ]
  },
  {
   "cell_type": "markdown",
   "metadata": {},
   "source": [
    "- Count-base vs Embedding-base\n",
    "    - power count vs norm? "
   ]
  }
 ],
 "metadata": {
  "kernelspec": {
   "display_name": "Python 3",
   "language": "python",
   "name": "python3"
  },
  "language_info": {
   "codemirror_mode": {
    "name": "ipython",
    "version": 3
   },
   "file_extension": ".py",
   "mimetype": "text/x-python",
   "name": "python",
   "nbconvert_exporter": "python",
   "pygments_lexer": "ipython3",
   "version": "3.6.9"
  }
 },
 "nbformat": 4,
 "nbformat_minor": 4
}
