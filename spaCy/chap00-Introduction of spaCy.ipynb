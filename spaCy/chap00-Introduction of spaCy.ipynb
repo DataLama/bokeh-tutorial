{
 "cells": [
  {
   "cell_type": "markdown",
   "metadata": {},
   "source": [
    "# Introduction of spacy and information retrieval"
   ]
  },
  {
   "cell_type": "markdown",
   "metadata": {},
   "source": [
    "## spaCy란?\n",
    "- spaCy는 python에서 advanced NLP을 위한 오픈소스 라이브러리다.\n",
    "- spaCy는 NLP 관점에서 유용한 자료구조를 제공한다.\n",
    "    - 토큰(token)과 문서(document)를 str 또는 list of str로 다루는 것이 아닌, 각각이 언어학적 특징(Linguistic Feature)를 담을 수 있는 객체(object)로 관리한다.\n",
    "- 특히, spaCy는 프로덕션 환경에서 대용량 텍스트 데이터를 다룰 때, 효과적이다.\n",
    "    - 메모리 관점에서 효율적으로 데이터를 관리함.\n",
    "- spaCy를 활용하여 IR, NLU, ML/DL 시스템을 잘 구축할 수 있다."
   ]
  },
  {
   "cell_type": "markdown",
   "metadata": {},
   "source": [
    "---"
   ]
  },
  {
   "cell_type": "markdown",
   "metadata": {},
   "source": [
    "## spaCy는 xx가 아니다.\n",
    "### spaCy는 플랫폼(platform)이나 API가 아니다.\n",
    "- 일반적인 플랫폼과 달리 spaCy는 Saas 또는 web app이 아니다. spaCy는 너가 NLP application을 개발하는데 유용하게 사용할 수 있는 오픈소스 라이브러리이다.\n",
    "\n",
    "### spaCy는 챗봇 engine이 아니다.\n",
    "- spaCy를 활용하면, 훌륭한 대화형 시스템을 구축할 수 있지만, spaCy는 챗봇 개발을 위한 라이브러리가 아니라, 그 밑바닥의 텍스트 처리에 도움을 줄 수 있는 라이브러리다.\n",
    "\n",
    "### spaCy는 연구용 소프트웨어가 아니다.\n",
    "- spaCy는 최신 연구 결과를 바탕으로 개발되고 있지만, 연구를 위한 솔루션은 아니다.\n",
    "- spaCy는 여러 알고리즘 중에서 일반적으로 좋은 성능을 보이는 하나의 알고리즘을 선택하여 더 나은 개발 경험을 제공한다."
   ]
  },
  {
   "cell_type": "markdown",
   "metadata": {},
   "source": [
    "---"
   ]
  },
  {
   "cell_type": "markdown",
   "metadata": {},
   "source": [
    "## Introduction to spaCy\n",
    "\n",
    "spaCy의 가장 큰 특징은 NLP의 기본 단위인 문서(document)와 토큰(token)을 객체(object)로 관리한다는 점이다. \n",
    "\n",
    "일반적으로 텍스트 데이터를 분석할 경우 문서와 토큰을 `list of str`, `str`의 형태로 관리하는 것이 일반적이다. \n",
    "\n",
    "하지만 아래의 상황을 생각해보면, 이러한 자료 구조는 **텍스트의 언어학적인 특징(linguistic feature)**들을 표현하는데, 뭔가 부족함을 느낄 수 있다."
   ]
  },
  {
   "cell_type": "markdown",
   "metadata": {},
   "source": [
    "- **동일한 토큰이 문맥(context)에 따라서 다른 의미를 갖는 경우.**\n",
    "    - `doc_1 = '야 이 미친새끼야'`\n",
    "    - `doc_2 = '와 이번 애플 신제품 미쳤다.'`\n",
    "    \n",
    "`doc_1`에서 미친과 `doc_2`에서 미쳤다는 동일한 토큰이지만 (물론, nlp적으로 `미친`과 `미쳤다`는 동일한 토큰으로 보기 어렵지만, 단순한 예시로서 이해하자.), 전혀 다른 의미를 갖는다.\n",
    "\n",
    "위와 같은 상황에서 토큰`미치다`에 의미를 스칼라 값(*tf-idf*) 또는 벡터(*embedding*)로 표현하려면 어떻게 표현해야될까?"
   ]
  },
  {
   "cell_type": "markdown",
   "metadata": {},
   "source": [
    "\n",
    "\n",
    "\n",
    "- **키워드 분석(keyword analysis)**\n",
    "\n",
    "nlp를 조금이라고 경험해 봤으면 키워드 분석이라는 말을 한 번쯤 접해봤을 것이다.\n",
    "\n",
    "일반적으로 키워드 추출은 품사를 기반으로 추출한다.(개인적으로 안 좋아하는 방식임)\n",
    "\n",
    "예를 들면, 명사, 동사, 형용사는 키워드이고, 이외의 것..."
   ]
  },
  {
   "cell_type": "markdown",
   "metadata": {},
   "source": [
    "개인적으로 spaCy 공식 문서를 ... ,,,"
   ]
  },
  {
   "cell_type": "markdown",
   "metadata": {},
   "source": [
    "---"
   ]
  },
  {
   "cell_type": "markdown",
   "metadata": {},
   "source": [
    "# Referneces\n",
    "- [공식 문서](https://spacy.io/)\n",
    "- [spacy 101](https://course.spacy.io/)"
   ]
  }
 ],
 "metadata": {
  "kernelspec": {
   "display_name": "Python 3",
   "language": "python",
   "name": "python3"
  },
  "language_info": {
   "codemirror_mode": {
    "name": "ipython",
    "version": 3
   },
   "file_extension": ".py",
   "mimetype": "text/x-python",
   "name": "python",
   "nbconvert_exporter": "python",
   "pygments_lexer": "ipython3",
   "version": "3.6.9"
  }
 },
 "nbformat": 4,
 "nbformat_minor": 4
}
